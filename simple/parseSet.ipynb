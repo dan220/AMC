{
 "cells": [
  {
   "cell_type": "code",
   "execution_count": 1,
   "id": "4959b552",
   "metadata": {},
   "outputs": [],
   "source": [
    "import numpy as np\n",
    "from music21 import *\n",
    "\n",
    "us = environment.UserSettings()\n",
    "#us['musescoreDirectPNGPath'] = '/usr/bin/mscore3'\n",
    "#us['musicxmlPath'] = '/usr/bin/mscore3'"
   ]
  },
  {
   "cell_type": "code",
   "execution_count": 2,
   "id": "f6f2dab6",
   "metadata": {},
   "outputs": [],
   "source": [
    "def parse(file):\n",
    "        with open(file) as f:\n",
    "            count = 1\n",
    "            for line in f.readlines():\n",
    "                if count == 5:\n",
    "                    txt = line\n",
    "                count += 1\n",
    "        x = txt.split()\n",
    "        note_number = []\n",
    "        for i in x:\n",
    "            if (i[:6]) == 'chosen':\n",
    "                note_number.append(i[11:])\n",
    "        note_number_rem = []\n",
    "        # Remove last bracket\n",
    "        for i in note_number:\n",
    "            note_number_rem.append(i[:len(i)-1])\n",
    "        note_dict = {}\n",
    "        for i in note_number_rem:\n",
    "            split = i.split(',')\n",
    "            note_dict[int(split[1])] = split[0]\n",
    "        note_dict_sort = {}\n",
    "        for key in sorted(note_dict.keys()) :\n",
    "            note_dict_sort[key] = int(note_dict[key])\n",
    "        return(note_dict_sort)\n",
    "            \n",
    "def to_stream(dic, clef, num):\n",
    "        stream1 = stream.Part([clef])\n",
    "        for key in dic:\n",
    "            z = dic[key]\n",
    "            if z == 1:\n",
    "                stream1.append(note.Note('c' + num))\n",
    "            if z == 2:\n",
    "                stream1.append(note.Note('c#' + num))\n",
    "            if z == 3:\n",
    "                stream1.append(note.Note('d' + num))\n",
    "            if z == 4:\n",
    "                stream1.append(note.Note('eb' + num))\n",
    "            if z == 5:\n",
    "                stream1.append(note.Note('e' + num))\n",
    "            if z == 6:\n",
    "                stream1.append(note.Note('f' + num))\n",
    "            if z == 7:\n",
    "                stream1.append(note.Note('f#' + num))\n",
    "            if z == 8:\n",
    "                stream1.append(note.Note('g' + num))\n",
    "            if z == 9:\n",
    "                stream1.append(note.Note('ab' + num))\n",
    "            if z == 10:\n",
    "                stream1.append(note.Note('a' + num))\n",
    "            if z == 11:\n",
    "                stream1.append(note.Note('bb' + num))\n",
    "            if z == 12:\n",
    "                stream1.append(note.Note('b' + num))\n",
    "        return(stream1)\n",
    "        \n",
    "        "
   ]
  },
  {
   "cell_type": "code",
   "execution_count": 3,
   "id": "dcf9875c",
   "metadata": {},
   "outputs": [
    {
     "data": {
      "text/html": [
       "\n",
       "                <div id='midiPlayerDiv319'></div>\n",
       "                <link rel=\"stylesheet\" href=\"//cuthbertLab.github.io/music21j/css/m21.css\"\n",
       "                    type=\"text/css\" />\n",
       "                <script>\n",
       "                require.config({\n",
       "                    paths: {'music21': '//cuthbertLab.github.io/music21j/src/music21'}\n",
       "                });\n",
       "                require(['music21'], function() {\n",
       "                               mp = new music21.miditools.MidiPlayer();\n",
       "                               mp.addPlayer('#midiPlayerDiv319');\n",
       "                               mp.base64Load('data:audio/midi;base64,TVRoZAAAAAYAAQADBABNVHJrAAAAFAD/UQMHoSAA/1gEBAIYCIgA/y8ATVRyawAAAJ4A/wMAAOAAQIgAkEVaiACARQAAkEVaiACARQAAkENaiACAQwAAkEBaiACAQAAAkEBaiACAQAAAkEdaiACARwAAkEFaiACAQQAAkEBaiACAQAAAkEBaiACAQAAAkEBaiACAQAAAkEdaiACARwAAkEBaiACAQAAAkEFaiACAQQAAkEFaiACAQQAAkENaiACAQwAAkDxaiACAPACIAP8vAE1UcmsAAACeAP8DAADgAECIAJAkWogAgCQAAJAoWogAgCgAAJArWogAgCsAAJArWogAgCsAAJAkWogAgCQAAJAoWogAgCgAAJArWogAgCsAAJArWogAgCsAAJAkWogAgCQAAJAoWogAgCgAAJArWogAgCsAAJArWogAgCsAAJAkWogAgCQAAJArWogAgCsAAJArWogAgCsAAJAkWogAgCQAiAD/LwA=');\n",
       "                        });\n",
       "                </script>"
      ],
      "text/plain": [
       "<IPython.core.display.HTML object>"
      ]
     },
     "metadata": {},
     "output_type": "display_data"
    },
    {
     "data": {
      "image/png": "[encoded data removed]",
      "text/plain": [
       "<IPython.core.display.Image object>"
      ]
     },
     "metadata": {
      "image/png": {
       "height": 129,
       "width": 748
      }
     },
     "output_type": "display_data"
    },
    {
     "data": {
      "text/plain": [
       "'composition.mid'"
      ]
     },
     "execution_count": 3,
     "metadata": {},
     "output_type": "execute_result"
    }
   ],
   "source": [
    "s = stream.Stream()\n",
    "bass_clef = clef.BassClef()\n",
    "treble_clef = clef.TrebleClef()\n",
    "bass = to_stream(parse('bass'), bass_clef, '2') \n",
    "guitar = to_stream(parse('guitar'), treble_clef, '4' )\n",
    "s.insert(guitar)\n",
    "s.insert(bass)\n",
    "s.show('midi')\n",
    "s.show()\n",
    "s.write('midi', 'composition.mid')"
   ]
  }
 ],
 "metadata": {
  "kernelspec": {
   "display_name": "Python 3",
   "language": "python",
   "name": "python3"
  },
  "language_info": {
   "codemirror_mode": {
    "name": "ipython",
    "version": 3
   },
   "file_extension": ".py",
   "mimetype": "text/x-python",
   "name": "python",
   "nbconvert_exporter": "python",
   "pygments_lexer": "ipython3",
   "version": "3.8.8"
  }
 },
 "nbformat": 4,
 "nbformat_minor": 5
}
